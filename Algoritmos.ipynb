{
  "nbformat": 4,
  "nbformat_minor": 0,
  "metadata": {
    "colab": {
      "name": "Algoritmos",
      "provenance": [],
      "authorship_tag": "ABX9TyPYHPVqMtnUQxpeV8Xo6L47",
      "include_colab_link": true
    },
    "kernelspec": {
      "name": "python3",
      "display_name": "Python 3"
    },
    "language_info": {
      "name": "python"
    }
  },
  "cells": [
    {
      "cell_type": "markdown",
      "metadata": {
        "id": "view-in-github",
        "colab_type": "text"
      },
      "source": [
        "<a href=\"https://colab.research.google.com/github/EgusquizaJairo/algoritmos/blob/main/Algoritmos.ipynb\" target=\"_parent\"><img src=\"https://colab.research.google.com/assets/colab-badge.svg\" alt=\"Open In Colab\"/></a>"
      ]
    },
    {
      "cell_type": "code",
      "metadata": {
        "colab": {
          "base_uri": "https://localhost:8080/"
        },
        "id": "VxZ4MuoMVpvh",
        "outputId": "7aa6cf1a-1c5b-4c2d-8180-5e660ab26f32"
      },
      "source": [
        "%%writefile programa1.cpp\n",
        "#include<iostream>\n",
        "using namespace std;\n",
        "int main()\n",
        "{\n",
        "\n",
        "  cout<<\"Hola mundo\";\n",
        "  return 0;\n",
        "}"
      ],
      "execution_count": 8,
      "outputs": [
        {
          "output_type": "stream",
          "text": [
            "Overwriting programa1.cpp\n"
          ],
          "name": "stdout"
        }
      ]
    },
    {
      "cell_type": "code",
      "metadata": {
        "id": "2gtZyq9hZfKc"
      },
      "source": [
        "#compilar\n",
        "!g++ programa1.cpp"
      ],
      "execution_count": 9,
      "outputs": []
    },
    {
      "cell_type": "code",
      "metadata": {
        "colab": {
          "base_uri": "https://localhost:8080/"
        },
        "id": "BPLv2InNZ2XH",
        "outputId": "15b6af23-2930-46f3-9e84-87125bacfe87"
      },
      "source": [
        "#ejecutar el programa objeto\n",
        "!./a.out"
      ],
      "execution_count": 11,
      "outputs": [
        {
          "output_type": "stream",
          "text": [
            "Hola mundo\n"
          ],
          "name": "stdout"
        }
      ]
    },
    {
      "cell_type": "code",
      "metadata": {
        "colab": {
          "base_uri": "https://localhost:8080/"
        },
        "id": "O1xtDthQaOc3",
        "outputId": "729db2e9-0db0-4feb-8c95-2e8cbaddadfb"
      },
      "source": [
        "!g++ programa1.cpp && ./a.out"
      ],
      "execution_count": 13,
      "outputs": [
        {
          "output_type": "stream",
          "text": [
            "Hola mundo\n"
          ],
          "name": "stdout"
        }
      ]
    },
    {
      "cell_type": "code",
      "metadata": {
        "colab": {
          "base_uri": "https://localhost:8080/"
        },
        "id": "jJMKZhGZadbN",
        "outputId": "ec78d1d9-51ec-4da9-8b3e-444c72d24af7"
      },
      "source": [
        "!g++ programa1.cpp -Wall -o upc.exe && ./upc.exe"
      ],
      "execution_count": 14,
      "outputs": [
        {
          "output_type": "stream",
          "text": [
            "Hola mundo\n"
          ],
          "name": "stdout"
        }
      ]
    },
    {
      "cell_type": "markdown",
      "metadata": {
        "id": "8XN_jvpYdz9k"
      },
      "source": [
        "# Templates\n"
      ]
    },
    {
      "cell_type": "code",
      "metadata": {
        "id": "AbgJFM76boru"
      },
      "source": [
        ""
      ],
      "execution_count": null,
      "outputs": []
    }
  ]
}